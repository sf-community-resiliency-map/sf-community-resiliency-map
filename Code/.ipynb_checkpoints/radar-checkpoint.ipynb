{
 "cells": [
  {
   "cell_type": "code",
   "execution_count": 1,
   "metadata": {},
   "outputs": [],
   "source": [
    "import pandas as pd\n",
    "import numpy as np\n",
    "import math\n",
    "\n",
    "from bokeh.plotting import figure, show, output_file, save\n",
    "from bokeh.models import ColumnDataSource, LabelSet, GeoJSONDataSource, HoverTool, LinearColorMapper, ColumnDataSource, Circle\n",
    "from bokeh.io import show, output_notebook, output_file\n",
    "from bokeh.palettes import Viridis11\n",
    "from bokeh.models.widgets import Panel, Tabs\n",
    "\n",
    "df = pd.read_csv('../Data/Community_Resiliency_Indicator_System.csv')\n",
    "df = df[['Neighborhood', 'Haz_Score', 'Env_Score', 'Trans_Score', 'Com_Score', 'PR_Score',\n",
    "     'House_Score', 'Ec_Score', 'Health_Score', 'Dem_Score', 'Res_Score']].dropna()\n",
    "\n",
    "vect1 = [np.cos(np.deg2rad(36*i)) for i in range(1, 11)]\n",
    "vect2 = [np.sin(np.deg2rad(36*i)) for i in range(1, 11)]\n",
    "scores = [5, 5, 5, 5, 5, 5, 5, 5, 5, 5]\n",
    "x = np.array(scores) * np.array(vect1)\n",
    "y = np.array(scores) * np.array(vect2)\n",
    "\n",
    "\n",
    "def radar_patch(scores, vect1, vect2):\n",
    "    xt = np.array(scores) * np.array(vect1)\n",
    "    yt = np.array(scores) * np.array(vect2)\n",
    "    return xt, yt"
   ]
  },
  {
   "cell_type": "code",
   "execution_count": 15,
   "metadata": {},
   "outputs": [
    {
     "name": "stderr",
     "output_type": "stream",
     "text": [
      "/Users/chuanxu/anaconda/envs/fastai/lib/python3.6/site-packages/bokeh/models/sources.py:114: BokehUserWarning: ColumnDataSource's columns must be of the same length. Current lengths: ('text', 10), ('x', 11), ('y', 11)\n",
      "  \"Current lengths: %s\" % \", \".join(sorted(str((k, len(v))) for k, v in data.items())), BokehUserWarning))\n"
     ]
    }
   ],
   "source": [
    "p1 = figure(title=\"Radar plot\")\n",
    "text = ['Haz_Score', 'Env_Score', 'Trans_Score', 'Com_Score', 'PR_Score', 'House_Score', 'Ec_Score', 'Health_Score', 'Dem_Score', 'Res_Score']\n",
    "source = ColumnDataSource({'x':np.append(x, x[0]), 'y':np.append(y, y[0]), 'text':text})\n",
    "p1.line(x=\"x\", y=\"y\", source=source)\n",
    "labels = LabelSet(x=\"x\",y=\"y\",text=\"text\",source=source)\n",
    "p1.add_layout(labels)\n",
    "f = np.array([1.0, 1.0, 1.0, 2.0, 1.0, 2.0, 1.0, 1.0, 1.0, 1.0])\n",
    "xt, yt = radar_patch(f, vect1, vect2)\n",
    "p1.patch(x=xt, y=yt, fill_alpha=0.15, fill_color=None)\n",
    "tab1 = Panel(child=p1, title=\"Bayview\")"
   ]
  },
  {
   "cell_type": "code",
   "execution_count": 16,
   "metadata": {},
   "outputs": [],
   "source": [
    "tabs = Tabs(tabs=[tab1])"
   ]
  },
  {
   "cell_type": "code",
   "execution_count": 17,
   "metadata": {},
   "outputs": [],
   "source": [
    "show(tabs)"
   ]
  },
  {
   "cell_type": "code",
   "execution_count": 7,
   "metadata": {},
   "outputs": [
    {
     "data": {
      "text/plain": [
       "array([ 4.04508497,  1.54508497, -1.54508497, -4.04508497, -5.        ,\n",
       "       -4.04508497, -1.54508497,  1.54508497,  4.04508497,  5.        ])"
      ]
     },
     "execution_count": 7,
     "metadata": {},
     "output_type": "execute_result"
    }
   ],
   "source": [
    "x"
   ]
  },
  {
   "cell_type": "code",
   "execution_count": 8,
   "metadata": {},
   "outputs": [
    {
     "data": {
      "text/plain": [
       "array([  2.93892626e+00,   4.75528258e+00,   4.75528258e+00,\n",
       "         2.93892626e+00,   6.12323400e-16,  -2.93892626e+00,\n",
       "        -4.75528258e+00,  -4.75528258e+00,  -2.93892626e+00,\n",
       "        -1.22464680e-15])"
      ]
     },
     "execution_count": 8,
     "metadata": {},
     "output_type": "execute_result"
    }
   ],
   "source": [
    "y"
   ]
  },
  {
   "cell_type": "code",
   "execution_count": 5,
   "metadata": {},
   "outputs": [
    {
     "data": {
      "text/plain": [
       "[0.80901699437494745,\n",
       " 0.30901699437494745,\n",
       " -0.30901699437494734,\n",
       " -0.80901699437494734,\n",
       " -1.0,\n",
       " -0.80901699437494745,\n",
       " -0.30901699437494756,\n",
       " 0.30901699437494723,\n",
       " 0.80901699437494734,\n",
       " 1.0]"
      ]
     },
     "execution_count": 5,
     "metadata": {},
     "output_type": "execute_result"
    }
   ],
   "source": [
    "vect1"
   ]
  },
  {
   "cell_type": "code",
   "execution_count": 6,
   "metadata": {},
   "outputs": [
    {
     "data": {
      "text/plain": [
       "[0.58778525229247314,\n",
       " 0.95105651629515353,\n",
       " 0.95105651629515364,\n",
       " 0.58778525229247325,\n",
       " 1.2246467991473532e-16,\n",
       " -0.58778525229247303,\n",
       " -0.95105651629515353,\n",
       " -0.95105651629515364,\n",
       " -0.58778525229247325,\n",
       " -2.4492935982947064e-16]"
      ]
     },
     "execution_count": 6,
     "metadata": {},
     "output_type": "execute_result"
    }
   ],
   "source": [
    "vect2"
   ]
  },
  {
   "cell_type": "code",
   "execution_count": null,
   "metadata": {
    "collapsed": true
   },
   "outputs": [],
   "source": []
  }
 ],
 "metadata": {
  "kernelspec": {
   "display_name": "Python 3",
   "language": "python",
   "name": "python3"
  },
  "language_info": {
   "codemirror_mode": {
    "name": "ipython",
    "version": 3
   },
   "file_extension": ".py",
   "mimetype": "text/x-python",
   "name": "python",
   "nbconvert_exporter": "python",
   "pygments_lexer": "ipython3",
   "version": "3.6.5"
  }
 },
 "nbformat": 4,
 "nbformat_minor": 2
}
