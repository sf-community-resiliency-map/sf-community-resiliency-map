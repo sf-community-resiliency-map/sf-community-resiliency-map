{
 "cells": [
  {
   "cell_type": "code",
   "execution_count": 1,
   "metadata": {
    "collapsed": true
   },
   "outputs": [],
   "source": [
    "import pandas as pd\n",
    "import numpy as np\n",
    "import json\n",
    "\n",
    "df = pd.read_csv('../Data/Community_Resiliency_Indicator_System.csv')\n",
    "df = df[['Neighborhood', 'Haz_Score', 'Env_Score', 'Trans_Score', 'Com_Score', 'PR_Score',\n",
    "     'House_Score', 'Ec_Score', 'Health_Score', 'Dem_Score', 'Res_Score']].dropna()\n",
    "df = df.append(pd.Series(['Diamond Heights'] + list(df.iloc[5])[1:], index=['Neighborhood', 'Haz_Score', 'Env_Score', 'Trans_Score', 'Com_Score', 'PR_Score',\n",
    "     'House_Score', 'Ec_Score', 'Health_Score', 'Dem_Score', 'Res_Score']), ignore_index=True)\n",
    "df = df.append(pd.Series(['Glen Park'] + list(df.iloc[5])[1:], index=['Neighborhood', 'Haz_Score', 'Env_Score', 'Trans_Score', 'Com_Score', 'PR_Score',\n",
    "     'House_Score', 'Ec_Score', 'Health_Score', 'Dem_Score', 'Res_Score']), ignore_index=True)\n",
    "\n",
    "with open('../Data/san-francisco.json', 'r') as f:\n",
    "    jo = json.loads(f.read())"
   ]
  },
  {
   "cell_type": "code",
   "execution_count": 2,
   "metadata": {
    "collapsed": true
   },
   "outputs": [],
   "source": [
    "for s in ['Haz_Score', 'Env_Score', 'Trans_Score', 'Com_Score', 'PR_Score',\n",
    "     'House_Score', 'Ec_Score', 'Health_Score', 'Dem_Score', 'Res_Score']:\n",
    "    for i in jo['features']:\n",
    "        if i['properties']['name'] in df.Neighborhood.tolist():\n",
    "            i['properties'][s] = int(df.loc[df['Neighborhood'] == i['properties']['name']][s])"
   ]
  },
  {
   "cell_type": "code",
   "execution_count": 3,
   "metadata": {
    "collapsed": true
   },
   "outputs": [],
   "source": [
    "with open('../Data/san-francisco_scores.json', 'w') as f:\n",
    "    json.dump(jo, f)"
   ]
  },
  {
   "cell_type": "code",
   "execution_count": 4,
   "metadata": {},
   "outputs": [
    {
     "name": "stdout",
     "output_type": "stream",
     "text": [
      "Seacliff\n",
      "{'name': 'Seacliff', 'cartodb_id': 1, 'created_at': '2013-02-10T05:44:04.653Z', 'updated_at': '2013-02-10T05:44:04.923Z', 'Haz_Score': 3, 'Env_Score': 5, 'Trans_Score': 2, 'Com_Score': 4, 'PR_Score': 2, 'House_Score': 3, 'Ec_Score': 5, 'Health_Score': 5, 'Dem_Score': 2, 'Res_Score': 5}\n",
      "Marina\n",
      "{'name': 'Marina', 'cartodb_id': 20, 'created_at': '2013-02-10T05:44:04.653Z', 'updated_at': '2013-02-10T05:44:04.923Z', 'Haz_Score': 2, 'Env_Score': 2, 'Trans_Score': 4, 'Com_Score': 5, 'PR_Score': 4, 'House_Score': 3, 'Ec_Score': 3, 'Health_Score': 3, 'Dem_Score': 5, 'Res_Score': 4}\n",
      "Pacific Heights\n",
      "{'name': 'Pacific Heights', 'cartodb_id': 23, 'created_at': '2013-02-10T05:44:04.653Z', 'updated_at': '2013-02-10T05:44:04.923Z', 'Haz_Score': 3, 'Env_Score': 4, 'Trans_Score': 4, 'Com_Score': 4, 'PR_Score': 4, 'House_Score': 2, 'Ec_Score': 5, 'Health_Score': 5, 'Dem_Score': 5, 'Res_Score': 5}\n",
      "Nob Hill\n",
      "{'name': 'Nob Hill', 'cartodb_id': 25, 'created_at': '2013-02-10T05:44:04.653Z', 'updated_at': '2013-02-10T05:44:04.923Z', 'Haz_Score': 2, 'Env_Score': 2, 'Trans_Score': 5, 'Com_Score': 3, 'PR_Score': 5, 'House_Score': 1, 'Ec_Score': 4, 'Health_Score': 4, 'Dem_Score': 4, 'Res_Score': 3}\n",
      "Presidio Heights\n",
      "{'name': 'Presidio Heights', 'cartodb_id': 29, 'created_at': '2013-02-10T05:44:04.653Z', 'updated_at': '2013-02-10T05:44:04.923Z', 'Haz_Score': 4, 'Env_Score': 4, 'Trans_Score': 4, 'Com_Score': 5, 'PR_Score': 5, 'House_Score': 2, 'Ec_Score': 2, 'Health_Score': 2, 'Dem_Score': 4, 'Res_Score': 4}\n",
      "Downtown/Civic Center\n",
      "{'name': 'Downtown/Civic Center', 'cartodb_id': 7, 'created_at': '2013-02-10T05:44:04.653Z', 'updated_at': '2013-02-10T05:44:04.923Z', 'Haz_Score': 1, 'Env_Score': 1, 'Trans_Score': 5, 'Com_Score': 1, 'PR_Score': 5, 'House_Score': 1, 'Ec_Score': 1, 'Health_Score': 1, 'Dem_Score': 2, 'Res_Score': 1}\n",
      "Excelsior\n",
      "{'name': 'Excelsior', 'cartodb_id': 13, 'created_at': '2013-02-10T05:44:04.653Z', 'updated_at': '2013-02-10T05:44:04.923Z', 'Haz_Score': 3, 'Env_Score': 3, 'Trans_Score': 2, 'Com_Score': 2, 'PR_Score': 1, 'House_Score': 5, 'Ec_Score': 2, 'Health_Score': 2, 'Dem_Score': 1, 'Res_Score': 2}\n",
      "Bernal Heights\n",
      "{'name': 'Bernal Heights', 'cartodb_id': 35, 'created_at': '2013-02-10T05:44:04.653Z', 'updated_at': '2013-02-10T05:44:04.923Z', 'Haz_Score': 3, 'Env_Score': 2, 'Trans_Score': 3, 'Com_Score': 4, 'PR_Score': 3, 'House_Score': 5, 'Ec_Score': 3, 'Health_Score': 3, 'Dem_Score': 3, 'Res_Score': 3}\n",
      "Western Addition\n",
      "{'name': 'Western Addition', 'cartodb_id': 27, 'created_at': '2013-02-10T05:44:04.653Z', 'updated_at': '2013-02-10T05:44:04.923Z', 'Haz_Score': 2, 'Env_Score': 2, 'Trans_Score': 5, 'Com_Score': 3, 'PR_Score': 5, 'House_Score': 1, 'Ec_Score': 5, 'Health_Score': 5, 'Dem_Score': 3, 'Res_Score': 3}\n",
      "Chinatown\n",
      "{'name': 'Chinatown', 'cartodb_id': 36, 'created_at': '2013-02-10T05:44:04.653Z', 'updated_at': '2013-02-10T05:44:04.923Z', 'Haz_Score': 1, 'Env_Score': 1, 'Trans_Score': 5, 'Com_Score': 1, 'PR_Score': 3, 'House_Score': 1, 'Ec_Score': 1, 'Health_Score': 1, 'Dem_Score': 1, 'Res_Score': 1}\n",
      "North Beach\n",
      "{'name': 'North Beach', 'cartodb_id': 37, 'created_at': '2013-02-10T05:44:04.653Z', 'updated_at': '2013-02-10T05:44:04.923Z', 'Haz_Score': 1, 'Env_Score': 3, 'Trans_Score': 5, 'Com_Score': 2, 'PR_Score': 4, 'House_Score': 1, 'Ec_Score': 3, 'Health_Score': 3, 'Dem_Score': 2, 'Res_Score': 2}\n",
      "Haight Ashbury\n",
      "{'name': 'Haight Ashbury', 'cartodb_id': 2, 'created_at': '2013-02-10T05:44:04.653Z', 'updated_at': '2013-02-10T05:44:04.923Z', 'Haz_Score': 4, 'Env_Score': 4, 'Trans_Score': 4, 'Com_Score': 5, 'PR_Score': 5, 'House_Score': 3, 'Ec_Score': 4, 'Health_Score': 4, 'Dem_Score': 5, 'Res_Score': 5}\n",
      "Outer Mission\n",
      "{'name': 'Outer Mission', 'cartodb_id': 3, 'created_at': '2013-02-10T05:44:04.653Z', 'updated_at': '2013-02-10T05:44:04.923Z', 'Haz_Score': 2, 'Env_Score': 2, 'Trans_Score': 2, 'Com_Score': 3, 'PR_Score': 2, 'House_Score': 4, 'Ec_Score': 4, 'Health_Score': 4, 'Dem_Score': 1, 'Res_Score': 2}\n",
      "Crocker Amazon\n",
      "{'name': 'Crocker Amazon', 'cartodb_id': 12, 'created_at': '2013-02-10T05:44:04.653Z', 'updated_at': '2013-02-10T05:44:04.923Z', 'Haz_Score': 3, 'Env_Score': 3, 'Trans_Score': 1, 'Com_Score': 2, 'PR_Score': 1, 'House_Score': 4, 'Ec_Score': 1, 'Health_Score': 1, 'Dem_Score': 1, 'Res_Score': 1}\n",
      "West of Twin Peaks\n",
      "{'name': 'West of Twin Peaks', 'cartodb_id': 18, 'created_at': '2013-02-10T05:44:04.653Z', 'updated_at': '2013-02-10T05:44:04.923Z', 'Haz_Score': 5, 'Env_Score': 5, 'Trans_Score': 2, 'Com_Score': 5, 'PR_Score': 3, 'House_Score': 5, 'Ec_Score': 4, 'Health_Score': 4, 'Dem_Score': 3, 'Res_Score': 5}\n",
      "South of Market\n",
      "{'name': 'South of Market', 'cartodb_id': 30, 'created_at': '2013-02-10T05:44:04.653Z', 'updated_at': '2013-02-10T05:44:04.923Z', 'Haz_Score': 1, 'Env_Score': 1, 'Trans_Score': 5, 'Com_Score': 1, 'PR_Score': 4, 'House_Score': 2, 'Ec_Score': 4, 'Health_Score': 4, 'Dem_Score': 3, 'Res_Score': 2}\n",
      "Potrero Hill\n",
      "{'name': 'Potrero Hill', 'cartodb_id': 32, 'created_at': '2013-02-10T05:44:04.653Z', 'updated_at': '2013-02-10T05:44:04.923Z', 'Haz_Score': 2, 'Env_Score': 2, 'Trans_Score': 3, 'Com_Score': 4, 'PR_Score': 2, 'House_Score': 5, 'Ec_Score': 2, 'Health_Score': 2, 'Dem_Score': 5, 'Res_Score': 4}\n",
      "Inner Richmond\n",
      "{'name': 'Inner Richmond', 'cartodb_id': 19, 'created_at': '2013-02-10T05:44:04.653Z', 'updated_at': '2013-02-10T05:44:04.923Z', 'Haz_Score': 5, 'Env_Score': 3, 'Trans_Score': 3, 'Com_Score': 3, 'PR_Score': 4, 'House_Score': 3, 'Ec_Score': 3, 'Health_Score': 3, 'Dem_Score': 4, 'Res_Score': 4}\n",
      "Bayview\n",
      "{'name': 'Bayview', 'cartodb_id': 21, 'created_at': '2013-02-10T05:44:04.653Z', 'updated_at': '2013-02-10T05:44:04.923Z', 'Haz_Score': 1, 'Env_Score': 1, 'Trans_Score': 1, 'Com_Score': 2, 'PR_Score': 1, 'House_Score': 2, 'Ec_Score': 1, 'Health_Score': 1, 'Dem_Score': 1, 'Res_Score': 1}\n",
      "Noe Valley\n",
      "{'name': 'Noe Valley', 'cartodb_id': 5, 'created_at': '2013-02-10T05:44:04.653Z', 'updated_at': '2013-02-10T05:44:04.923Z', 'Haz_Score': 5, 'Env_Score': 4, 'Trans_Score': 3, 'Com_Score': 5, 'PR_Score': 4, 'House_Score': 3, 'Ec_Score': 5, 'Health_Score': 5, 'Dem_Score': 5, 'Res_Score': 5}\n",
      "Inner Sunset\n",
      "{'name': 'Inner Sunset', 'cartodb_id': 6, 'created_at': '2013-02-10T05:44:04.653Z', 'updated_at': '2013-02-10T05:44:04.923Z', 'Haz_Score': 5, 'Env_Score': 5, 'Trans_Score': 2, 'Com_Score': 4, 'PR_Score': 3, 'House_Score': 4, 'Ec_Score': 5, 'Health_Score': 5, 'Dem_Score': 4, 'Res_Score': 4}\n",
      "Diamond Heights\n",
      "{'name': 'Diamond Heights', 'cartodb_id': 8, 'created_at': '2013-02-10T05:44:04.653Z', 'updated_at': '2013-02-10T05:44:04.923Z', 'Haz_Score': 4, 'Env_Score': 5, 'Trans_Score': 2, 'Com_Score': 5, 'PR_Score': 3, 'House_Score': 4, 'Ec_Score': 4, 'Health_Score': 4, 'Dem_Score': 4, 'Res_Score': 5}\n",
      "Lakeshore\n",
      "{'name': 'Lakeshore', 'cartodb_id': 10, 'created_at': '2013-02-10T05:44:04.653Z', 'updated_at': '2013-02-10T05:44:04.923Z', 'Haz_Score': 4, 'Env_Score': 5, 'Trans_Score': 1, 'Com_Score': 2, 'PR_Score': 1, 'House_Score': 2, 'Ec_Score': 2, 'Health_Score': 2, 'Dem_Score': 3, 'Res_Score': 2}\n",
      "Russian Hill\n",
      "{'name': 'Russian Hill', 'cartodb_id': 4, 'created_at': '2013-02-10T05:44:04.653Z', 'updated_at': '2013-02-10T05:44:04.923Z', 'Haz_Score': 3, 'Env_Score': 3, 'Trans_Score': 5, 'Com_Score': 4, 'PR_Score': 5, 'House_Score': 1, 'Ec_Score': 5, 'Health_Score': 5, 'Dem_Score': 5, 'Res_Score': 4}\n",
      "Treasure Island/YBI\n",
      "{'name': 'Treasure Island/YBI', 'cartodb_id': 9, 'created_at': '2013-02-10T05:44:04.653Z', 'updated_at': '2013-02-10T05:44:04.923Z', 'Haz_Score': 2, 'Env_Score': 1, 'Trans_Score': 3, 'Com_Score': 1, 'PR_Score': 1, 'House_Score': 4, 'Ec_Score': 2, 'Health_Score': 2, 'Dem_Score': 2, 'Res_Score': 1}\n",
      "Twin Peaks\n",
      "{'name': 'Twin Peaks', 'cartodb_id': 34, 'created_at': '2013-02-10T05:44:04.653Z', 'updated_at': '2013-02-10T05:44:04.923Z', 'Haz_Score': 4, 'Env_Score': 5, 'Trans_Score': 2, 'Com_Score': 5, 'PR_Score': 3, 'House_Score': 2, 'Ec_Score': 2, 'Health_Score': 2, 'Dem_Score': 4, 'Res_Score': 4}\n",
      "Outer Richmond\n",
      "{'name': 'Outer Richmond', 'cartodb_id': 11, 'created_at': '2013-02-10T05:44:04.653Z', 'updated_at': '2013-02-10T05:44:04.923Z', 'Haz_Score': 5, 'Env_Score': 3, 'Trans_Score': 3, 'Com_Score': 3, 'PR_Score': 2, 'House_Score': 3, 'Ec_Score': 3, 'Health_Score': 3, 'Dem_Score': 3, 'Res_Score': 3}\n",
      "Visitacion Valley\n",
      "{'name': 'Visitacion Valley', 'cartodb_id': 22, 'created_at': '2013-02-10T05:44:04.653Z', 'updated_at': '2013-02-10T05:44:04.923Z', 'Haz_Score': 3, 'Env_Score': 5, 'Trans_Score': 1, 'Com_Score': 1, 'PR_Score': 1, 'House_Score': 4, 'Ec_Score': 1, 'Health_Score': 1, 'Dem_Score': 1, 'Res_Score': 1}\n",
      "Golden Gate Park\n",
      "{'name': 'Golden Gate Park', 'cartodb_id': 28, 'created_at': '2013-02-10T05:44:04.653Z', 'updated_at': '2013-02-10T05:44:04.923Z'}\n",
      "Parkside\n",
      "{'name': 'Parkside', 'cartodb_id': 14, 'created_at': '2013-02-10T05:44:04.653Z', 'updated_at': '2013-02-10T05:44:04.923Z', 'Haz_Score': 5, 'Env_Score': 4, 'Trans_Score': 1, 'Com_Score': 4, 'PR_Score': 2, 'House_Score': 5, 'Ec_Score': 1, 'Health_Score': 1, 'Dem_Score': 2, 'Res_Score': 3}\n",
      "Financial District\n",
      "{'name': 'Financial District', 'cartodb_id': 15, 'created_at': '2013-02-10T05:44:04.653Z', 'updated_at': '2013-02-10T05:44:04.923Z', 'Haz_Score': 1, 'Env_Score': 1, 'Trans_Score': 5, 'Com_Score': 1, 'PR_Score': 5, 'House_Score': 1, 'Ec_Score': 2, 'Health_Score': 2, 'Dem_Score': 1, 'Res_Score': 1}\n",
      "Ocean View\n",
      "{'name': 'Ocean View', 'cartodb_id': 16, 'created_at': '2013-02-10T05:44:04.653Z', 'updated_at': '2013-02-10T05:44:04.923Z', 'Haz_Score': 4, 'Env_Score': 3, 'Trans_Score': 1, 'Com_Score': 2, 'PR_Score': 1, 'House_Score': 4, 'Ec_Score': 1, 'Health_Score': 1, 'Dem_Score': 2, 'Res_Score': 2}\n",
      "Mission\n",
      "{'name': 'Mission', 'cartodb_id': 17, 'created_at': '2013-02-10T05:44:04.653Z', 'updated_at': '2013-02-10T05:44:04.923Z', 'Haz_Score': 2, 'Env_Score': 2, 'Trans_Score': 4, 'Com_Score': 2, 'PR_Score': 4, 'House_Score': 2, 'Ec_Score': 3, 'Health_Score': 3, 'Dem_Score': 3, 'Res_Score': 2}\n",
      "Presidio\n",
      "{'name': 'Presidio', 'cartodb_id': 24, 'created_at': '2013-02-10T05:44:04.653Z', 'updated_at': '2013-02-10T05:44:04.923Z', 'Haz_Score': 4, 'Env_Score': 5, 'Trans_Score': 3, 'Com_Score': 3, 'PR_Score': 2, 'House_Score': 5, 'Ec_Score': 5, 'Health_Score': 5, 'Dem_Score': 5, 'Res_Score': 5}\n",
      "Castro/Upper Market\n",
      "{'name': 'Castro/Upper Market', 'cartodb_id': 33, 'created_at': '2013-02-10T05:44:04.653Z', 'updated_at': '2013-02-10T05:44:04.923Z', 'Haz_Score': 5, 'Env_Score': 4, 'Trans_Score': 4, 'Com_Score': 5, 'PR_Score': 5, 'House_Score': 3, 'Ec_Score': 4, 'Health_Score': 4, 'Dem_Score': 5, 'Res_Score': 5}\n",
      "Outer Sunset\n",
      "{'name': 'Outer Sunset', 'cartodb_id': 26, 'created_at': '2013-02-10T05:44:04.653Z', 'updated_at': '2013-02-10T05:44:04.923Z', 'Haz_Score': 5, 'Env_Score': 4, 'Trans_Score': 1, 'Com_Score': 3, 'PR_Score': 2, 'House_Score': 5, 'Ec_Score': 3, 'Health_Score': 3, 'Dem_Score': 2, 'Res_Score': 3}\n",
      "Glen Park\n",
      "{'name': 'Glen Park', 'cartodb_id': 31, 'created_at': '2013-02-10T05:44:04.653Z', 'updated_at': '2013-02-10T05:44:04.923Z', 'Haz_Score': 4, 'Env_Score': 5, 'Trans_Score': 2, 'Com_Score': 5, 'PR_Score': 3, 'House_Score': 4, 'Ec_Score': 4, 'Health_Score': 4, 'Dem_Score': 4, 'Res_Score': 5}\n"
     ]
    }
   ],
   "source": [
    "for i in jo['features']:\n",
    "    print(i['properties']['name'])\n",
    "    print(i['properties'])"
   ]
  },
  {
   "cell_type": "code",
   "execution_count": null,
   "metadata": {
    "collapsed": true
   },
   "outputs": [],
   "source": []
  }
 ],
 "metadata": {
  "kernelspec": {
   "display_name": "Python 3",
   "language": "python",
   "name": "python3"
  },
  "language_info": {
   "codemirror_mode": {
    "name": "ipython",
    "version": 3
   },
   "file_extension": ".py",
   "mimetype": "text/x-python",
   "name": "python",
   "nbconvert_exporter": "python",
   "pygments_lexer": "ipython3",
   "version": "3.6.5"
  }
 },
 "nbformat": 4,
 "nbformat_minor": 2
}
