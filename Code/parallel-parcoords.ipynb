{
 "cells": [
  {
   "cell_type": "code",
   "execution_count": 1,
   "metadata": {
    "collapsed": true
   },
   "outputs": [],
   "source": [
    "from bokeh.io import show, output_notebook, output_file\n",
    "from bokeh.models import GeoJSONDataSource, HoverTool, LinearColorMapper, ColumnDataSource, Circle\n",
    "from bokeh.plotting import figure\n",
    "from bokeh.palettes import Viridis11\n",
    "import json\n",
    "import pandas as pd"
   ]
  },
  {
   "cell_type": "code",
   "execution_count": 2,
   "metadata": {
    "collapsed": true
   },
   "outputs": [],
   "source": [
    "df = pd.read_csv('../Data/Community_Resiliency_Indicator_System.csv')"
   ]
  },
  {
   "cell_type": "code",
   "execution_count": 3,
   "metadata": {
    "collapsed": true
   },
   "outputs": [],
   "source": [
    "df = df.drop(df.index[9]).sort_values('Res_Rank').reset_index().drop('index', axis=1)"
   ]
  },
  {
   "cell_type": "code",
   "execution_count": 4,
   "metadata": {},
   "outputs": [
    {
     "data": {
      "text/plain": [
       "'file:///Users/chuanxu/Desktop/test/Code/parallel-parcoords.html'"
      ]
     },
     "execution_count": 4,
     "metadata": {},
     "output_type": "execute_result"
    }
   ],
   "source": [
    "import plotly\n",
    "import plotly.plotly as py\n",
    "import plotly.graph_objs as go\n",
    "\n",
    "\n",
    "data = [\n",
    "    go.Parcoords(\n",
    "        line = dict(color = df['Res_Score'],\n",
    "                   colorscale = [[1,'#eff3ff'],[2,'#bdd7e7'],[3,'#6baed6'], [4,'#3182bd'], [5,'#08519c']]),\n",
    "        dimensions = list([\n",
    "            dict(range = [1,5],\n",
    "                label = 'Hazard Risk', values = df['Haz_Score']),\n",
    "            dict(range = [1,5],\n",
    "                label = 'Environmental', values = df['Env_Score']),\n",
    "            dict(range = [1,5],\n",
    "                label = 'Transportation', values = df['Trans_Score']),\n",
    "            dict(range = [1,5],\n",
    "                label = 'Community', values = df['Com_Score']),\n",
    "            dict(range = [1,5],\n",
    "                label = 'Public Realm', values = df['PR_Score']),\n",
    "            dict(range = [1,5],\n",
    "                label = 'Housing Resiliency', values = df['House_Score']),\n",
    "            dict(range = [1,5],\n",
    "                label = 'Economy', values = df['Ec_Score']),\n",
    "            dict(range = [1,5],\n",
    "                label = 'Demographic', values = df['Dem_Score']),\n",
    "            dict(range = [1,5],\n",
    "                label = 'Resiliency Score', values = df['Res_Score']),\n",
    "            dict(range = [36,1],\n",
    "                tickvals = df.index + 1,\n",
    "                ticktext = df['Neighborhood'],\n",
    "                label = 'Resiliency  Rank', values = df['Res_Rank'])\n",
    "        ])\n",
    "    )\n",
    "]\n",
    "\n",
    "layout = go.Layout(\n",
    "    plot_bgcolor = '#ffffff',\n",
    "    paper_bgcolor = '#ffffff',\n",
    "    height = 800\n",
    "    \n",
    ")\n",
    "\n",
    "fig = go.Figure(data = data, layout = layout)\n",
    "plotly.offline.plot(fig, filename = 'parallel-parcoords.html')"
   ]
  }
 ],
 "metadata": {
  "kernelspec": {
   "display_name": "Python 3",
   "language": "python",
   "name": "python3"
  },
  "language_info": {
   "codemirror_mode": {
    "name": "ipython",
    "version": 3
   },
   "file_extension": ".py",
   "mimetype": "text/x-python",
   "name": "python",
   "nbconvert_exporter": "python",
   "pygments_lexer": "ipython3",
   "version": "3.6.5"
  },
  "toc": {
   "nav_menu": {},
   "number_sections": true,
   "sideBar": true,
   "skip_h1_title": false,
   "toc_cell": false,
   "toc_position": {},
   "toc_section_display": "block",
   "toc_window_display": false
  }
 },
 "nbformat": 4,
 "nbformat_minor": 2
}
